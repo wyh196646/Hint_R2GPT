{
 "cells": [
  {
   "cell_type": "code",
   "execution_count": 4,
   "metadata": {},
   "outputs": [
    {
     "name": "stdout",
     "output_type": "stream",
     "text": [
      "sample 1 num of prompts for Atelectasis from total 210\n",
      "sample 1 num of prompts for Cardiomegaly from total 15\n",
      "sample 1 num of prompts for Consolidation from total 192\n",
      "sample 1 num of prompts for Edema from total 18\n",
      "sample 1 num of prompts for Pleural Effusion from total 54\n"
     ]
    }
   ],
   "source": [
    "from prompts import  generate_chexpert_class_prompts,process_class_prompts\n",
    "cls_prompts = process_class_prompts(generate_chexpert_class_prompts(n=1))"
   ]
  },
  {
   "cell_type": "code",
   "execution_count": 6,
   "metadata": {},
   "outputs": [
    {
     "name": "stdout",
     "output_type": "stream",
     "text": [
      "[' bandlike atelectasis at the right lower lobe', ' heart size is at the upper limits of normal ']\n"
     ]
    }
   ],
   "source": [
    "def list_of_lists_to_string_list(input_list):\n",
    "    result = [' '.join(sublist) for sublist in input_list]\n",
    "    return result\n",
    "\n",
    "input_list = [[' bandlike atelectasis at the right lower lobe'], [' heart size is at the upper limits of normal ']]\n",
    "output_list = list_of_lists_to_string_list(input_list)\n",
    "print(output_list)"
   ]
  }
 ],
 "metadata": {
  "kernelspec": {
   "display_name": "base",
   "language": "python",
   "name": "python3"
  },
  "language_info": {
   "codemirror_mode": {
    "name": "ipython",
    "version": 3
   },
   "file_extension": ".py",
   "mimetype": "text/x-python",
   "name": "python",
   "nbconvert_exporter": "python",
   "pygments_lexer": "ipython3",
   "version": "3.9.12"
  }
 },
 "nbformat": 4,
 "nbformat_minor": 2
}
